{
 "cells": [
  {
   "cell_type": "code",
   "execution_count": 34,
   "metadata": {},
   "outputs": [
    {
     "name": "stdout",
     "output_type": "stream",
     "text": [
      "['특성별(1)', '특성별(2)', '참여하지 못한 평생학습프로그램 있었음', '직장업무로 인한 시간 부족', '코로나 영향', '가까운 거리에 교육훈련기관이 없어서', '동기, 자신감 부족', '가족부양에 따른 시간 부족', '교육에 대한 정보가 부족해서', '학습비가 너무 비싸서', '함께 배울 친구가 없어서', '교육시설이 만족스럽지 못해서', '건강상 이유로', '교육내용이 만족스럽지 못해서', '기타']\n",
      "[['직장업무로 인한 시간 부족', 40.3], ['코로나 영향', 29.0], ['가까운 거리에 교육훈련기관이 없어서', 18.6]]\n",
      "[['직장업무로 인한 시간 부족', 55.5], ['코로나 영향', 21.0], ['가까운 거리에 교육훈련기관이 없어서', 18.7]]\n",
      "[['직장업무로 인한 시간 부족', 30.4], ['코로나 영향', 34.2], ['가까운 거리에 교육훈련기관이 없어서', 18.5]]\n"
     ]
    }
   ],
   "source": [
    "import csv\n",
    "\n",
    "# 큰수와 index 번호를 담은 list를 세개 반환(가장 큰거 처음 나옴)\n",
    "def find_top3_largest(row):\n",
    "    first_list = [] # 큰수, index 번호를 담음\n",
    "    second_list = []\n",
    "    thrid_list = []\n",
    "    \n",
    "    first_larger = 0;\n",
    "    second_larger = 0;\n",
    "    third_larger = 0;\n",
    "    \n",
    "    first_larger_idx, second_larger_idx, third_larger_idx = None, None, None\n",
    "    for i in range(3,14):\n",
    "        if first_larger == 0:\n",
    "            first_larger = float(row[i])\n",
    "            first_larger_idx = i\n",
    "        else:\n",
    "            if i > first_larger:\n",
    "                second_larger = first_larger\n",
    "                second_larger_idx = first_larger_idx\n",
    "                first_larger = float(row[i])\n",
    "                first_larger = i\n",
    "            else:\n",
    "                if i> second_larger:\n",
    "                    third_larger = second_larger\n",
    "                    third_larger_idx = second_larger_idx\n",
    "                    second_larger = float(row[i])\n",
    "                    second_larger_idx = i\n",
    "                else:\n",
    "                    if i > third_larger:\n",
    "                        third_larger = float(row[i])\n",
    "                        third_larger_idx = i\n",
    "        \n",
    "    first_list.append(first_larger)\n",
    "    first_list.append(first_larger_idx)\n",
    "    second_list.append(second_larger)\n",
    "    second_list.append(second_larger_idx)\n",
    "    thrid_list.append(third_larger)\n",
    "    thrid_list.append(third_larger_idx)    \n",
    "    \n",
    "    return first_list, second_list, thrid_list\n",
    "\n",
    "\n",
    "f = open(r'.\\평생학습_불참요인_20220607161957.csv','r',encoding='cp949') # relative path, enconding = window encoding.\n",
    "data = csv.reader(f, delimiter = ',' )\n",
    "\n",
    "header = next(data)\n",
    "print(header) # []은 list 타입이고 ''은 str을 의미함.\n",
    "\n",
    "total_reason_top3 = [] # 전체 종합 이유 \n",
    "men_reason_top3 = [] # 남성\n",
    "women_reason_top3 = [] # 여성\n",
    "for row in data:\n",
    "    if(row[0] == '전체'):\n",
    "        total_top1, total_top2, total_top3 = find_top3_largest(row)\n",
    "        # print(total_top1, total_top2, total_top3)\n",
    "        total_reason_top3.append([header[total_top1[1]] ,float(total_top1[0])])\n",
    "        total_reason_top3.append([header[total_top2[1]] ,float(total_top2[0])])\n",
    "        total_reason_top3.append([header[total_top3[1]] ,float(total_top3[0])])\n",
    "    elif(row[1] == '남성'):\n",
    "        total_top1, total_top2, total_top3 = find_top3_largest(row)\n",
    "        \n",
    "        men_reason_top3.append([header[total_top1[1]] ,float(total_top1[0])])\n",
    "        men_reason_top3.append([header[total_top2[1]] ,float(total_top2[0])])\n",
    "        men_reason_top3.append([header[total_top3[1]] ,float(total_top3[0])])\n",
    "    elif(row[1] == '여성'):\n",
    "        total_top1, total_top2, total_top3 = find_top3_largest(row)\n",
    "        \n",
    "        women_reason_top3.append([header[total_top1[1]] ,float(total_top1[0])])\n",
    "        women_reason_top3.append([header[total_top2[1]] ,float(total_top2[0])])\n",
    "        women_reason_top3.append([header[total_top3[1]] ,float(total_top3[0])])\n",
    "        \n",
    "print(total_reason_top3)\n",
    "print(men_reason_top3)\n",
    "print(women_reason_top3)\n",
    "\n",
    "\n",
    "f.close()"
   ]
  },
  {
   "cell_type": "code",
   "execution_count": 86,
   "metadata": {},
   "outputs": [
    {
     "data": {
      "image/png": "[encoded data removed]",
      "text/plain": [
       "<Figure size 432x288 with 1 Axes>"
      ]
     },
     "metadata": {
      "needs_background": "light"
     },
     "output_type": "display_data"
    }
   ],
   "source": [
    "import matplotlib.pyplot as plt\n",
    "import numpy as np\n",
    "#total_reason_top3 = [] # 전체 종합 이유 \n",
    "#men_reason_top3 = [] # 남성\n",
    "#women_reason_top3 = [] # 여성\n",
    "# 이름 모음 [total_reason_top3[0][0], total_reason_top3[1][0], total_reason_top3[2][0]]\n",
    "plt.title('평생학습 불참 요인')\n",
    "barWidth = 0.2\n",
    "plt.plot(figsize=(15,10))\n",
    "\n",
    "total_data = [total_reason_top3[0][1], total_reason_top3[1][1], total_reason_top3[2][1]]\n",
    "women_data = [women_reason_top3[0][1], women_reason_top3[1][1], women_reason_top3[2][1]]\n",
    "men_data = [men_reason_top3[0][1], men_reason_top3[1][1], men_reason_top3[2][1]]\n",
    "\n",
    "# set position of bar on X axis\n",
    "br1 = np.arange(3)\n",
    "br2 = [x + barWidth for x in br1]\n",
    "br3 = [x + barWidth for x in br2]\n",
    "\n",
    "plt.bar(br1, total_data, width = barWidth, label='전체')\n",
    "plt.bar(br2, women_data, width = barWidth, label = '여성')\n",
    "plt.bar(br3, men_data, width = barWidth, label = '남성')\n",
    "\n",
    "plt.xlabel(\"3가지 상위 항목\",fontweight = 'bold', fontsize = 15)\n",
    "plt.ylabel(\"퍼센트\", fontweight = 'bold', fontsize = 15)\n",
    "# luck.. 3가지 상위 항목이 동일함.\n",
    "plt.xticks([r + barWidth for r in range(3)], ['시간부족','코로나 영향','근처에 교육기관이 없어서'])\n",
    "\n",
    "plt.legend()\n",
    "plt.show()"
   ]
  }
 ],
 "metadata": {
  "interpreter": {
   "hash": "38312e709df01dfdea8922d866d74b2be743554c3391d4d03b052307b8ea57aa"
  },
  "kernelspec": {
   "display_name": "Python 3.9.12 ('base')",
   "language": "python",
   "name": "python3"
  },
  "language_info": {
   "codemirror_mode": {
    "name": "ipython",
    "version": 3
   },
   "file_extension": ".py",
   "mimetype": "text/x-python",
   "name": "python",
   "nbconvert_exporter": "python",
   "pygments_lexer": "ipython3",
   "version": "3.9.12"
  },
  "orig_nbformat": 4
 },
 "nbformat": 4,
 "nbformat_minor": 2
}
